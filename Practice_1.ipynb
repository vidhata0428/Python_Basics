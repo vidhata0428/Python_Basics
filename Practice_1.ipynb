{
 "cells": [
  {
   "cell_type": "code",
   "execution_count": 2,
   "id": "a1a0c339-5591-416b-a9fb-fccc4e192b41",
   "metadata": {},
   "outputs": [
    {
     "name": "stdout",
     "output_type": "stream",
     "text": [
      "3.12.7\n"
     ]
    }
   ],
   "source": [
    "from platform import python_version\n",
    "print(python_version())"
   ]
  },
  {
   "cell_type": "code",
   "execution_count": 3,
   "id": "9afab5ee-cfd4-4066-8058-e5a9ed42dcae",
   "metadata": {},
   "outputs": [
    {
     "data": {
      "text/plain": [
       "22"
      ]
     },
     "execution_count": 3,
     "metadata": {},
     "output_type": "execute_result"
    }
   ],
   "source": [
    "21+1"
   ]
  },
  {
   "cell_type": "code",
   "execution_count": 4,
   "id": "efc2501f-41ea-4ed8-9cc9-6af8447523f9",
   "metadata": {},
   "outputs": [
    {
     "data": {
      "text/plain": [
       "21"
      ]
     },
     "execution_count": 4,
     "metadata": {},
     "output_type": "execute_result"
    }
   ],
   "source": [
    "22-1"
   ]
  },
  {
   "cell_type": "code",
   "execution_count": 6,
   "id": "52aa40a2-295f-41e0-84b8-070fc66be3ff",
   "metadata": {},
   "outputs": [
    {
     "data": {
      "text/plain": [
       "44"
      ]
     },
     "execution_count": 6,
     "metadata": {},
     "output_type": "execute_result"
    }
   ],
   "source": [
    "22*2"
   ]
  },
  {
   "cell_type": "code",
   "execution_count": 8,
   "id": "2b532b0e-f517-4c6d-b2bd-31199897d3c5",
   "metadata": {},
   "outputs": [
    {
     "data": {
      "text/plain": [
       "36"
      ]
     },
     "execution_count": 8,
     "metadata": {},
     "output_type": "execute_result"
    }
   ],
   "source": [
    "#Power\n",
    "6**2"
   ]
  },
  {
   "cell_type": "code",
   "execution_count": 9,
   "id": "02c8e1bd-f141-418a-9881-f01bf402115b",
   "metadata": {},
   "outputs": [
    {
     "data": {
      "text/plain": [
       "46656"
      ]
     },
     "execution_count": 9,
     "metadata": {},
     "output_type": "execute_result"
    }
   ],
   "source": [
    "#Power\n",
    "6**6"
   ]
  },
  {
   "cell_type": "code",
   "execution_count": 10,
   "id": "28217c9d-c78b-4e63-ac89-5a06b781388b",
   "metadata": {},
   "outputs": [
    {
     "data": {
      "text/plain": [
       "2"
      ]
     },
     "execution_count": 10,
     "metadata": {},
     "output_type": "execute_result"
    }
   ],
   "source": [
    "#Remainder\n",
    "35%3"
   ]
  },
  {
   "cell_type": "code",
   "execution_count": 12,
   "id": "61955045-9579-4250-9ee3-de39bde4dd3a",
   "metadata": {},
   "outputs": [
    {
     "data": {
      "text/plain": [
       "7"
      ]
     },
     "execution_count": 12,
     "metadata": {},
     "output_type": "execute_result"
    }
   ],
   "source": [
    "#Quotient\n",
    "22//3"
   ]
  },
  {
   "cell_type": "code",
   "execution_count": 13,
   "id": "54fbf074-8838-44fd-a489-10460d6ef303",
   "metadata": {},
   "outputs": [
    {
     "name": "stdout",
     "output_type": "stream",
     "text": [
      "44\n"
     ]
    }
   ],
   "source": [
    "x = 44\n",
    "print(x)"
   ]
  },
  {
   "cell_type": "code",
   "execution_count": 14,
   "id": "0d6d670c-5af2-4215-b875-71c3c63895b8",
   "metadata": {},
   "outputs": [],
   "source": [
    "#To delete x\n",
    "del x;"
   ]
  },
  {
   "cell_type": "code",
   "execution_count": 15,
   "id": "b22a4e1f-5d1d-4312-9339-a314c92811a0",
   "metadata": {},
   "outputs": [
    {
     "ename": "NameError",
     "evalue": "name 'x' is not defined",
     "output_type": "error",
     "traceback": [
      "\u001b[1;31m---------------------------------------------------------------------------\u001b[0m",
      "\u001b[1;31mNameError\u001b[0m                                 Traceback (most recent call last)",
      "Cell \u001b[1;32mIn[15], line 1\u001b[0m\n\u001b[1;32m----> 1\u001b[0m \u001b[38;5;28mprint\u001b[39m(x)\n",
      "\u001b[1;31mNameError\u001b[0m: name 'x' is not defined"
     ]
    }
   ],
   "source": [
    "print(x)"
   ]
  },
  {
   "cell_type": "code",
   "execution_count": 17,
   "id": "d5a182ba-b590-42df-b7c4-80af25184ff5",
   "metadata": {},
   "outputs": [
    {
     "name": "stdout",
     "output_type": "stream",
     "text": [
      "<class 'int'>\n"
     ]
    }
   ],
   "source": [
    "#DATA STRUCTURES\n",
    "\n",
    "#Every built in function should be followed with braces\n",
    "\n",
    "x = 44\n",
    "print(type(x))"
   ]
  },
  {
   "cell_type": "code",
   "execution_count": 18,
   "id": "127445d6-16f1-495b-881d-089a875432cc",
   "metadata": {},
   "outputs": [
    {
     "data": {
      "text/plain": [
       "int"
      ]
     },
     "execution_count": 18,
     "metadata": {},
     "output_type": "execute_result"
    }
   ],
   "source": [
    "x = 42\n",
    "type(x)"
   ]
  },
  {
   "cell_type": "code",
   "execution_count": 19,
   "id": "fdb24670-8e61-4290-bf25-fa033c185b65",
   "metadata": {},
   "outputs": [
    {
     "name": "stdout",
     "output_type": "stream",
     "text": [
      "(18+23j)\n",
      "<class 'complex'>\n"
     ]
    }
   ],
   "source": [
    "e = 18 + 23j\n",
    "print(e)\n",
    "print(type(e))"
   ]
  },
  {
   "cell_type": "code",
   "execution_count": 20,
   "id": "a9e1548e-150b-498d-ae2f-aaf66003a21e",
   "metadata": {},
   "outputs": [
    {
     "data": {
      "text/plain": [
       "complex"
      ]
     },
     "execution_count": 20,
     "metadata": {},
     "output_type": "execute_result"
    }
   ],
   "source": [
    "a = 12 + 14j\n",
    "type(a)"
   ]
  },
  {
   "cell_type": "code",
   "execution_count": 22,
   "id": "9091914c-0dba-43fe-a13b-2c42c2342722",
   "metadata": {},
   "outputs": [
    {
     "name": "stdout",
     "output_type": "stream",
     "text": [
      "range(0, 10)\n",
      "<class 'range'>\n"
     ]
    }
   ],
   "source": [
    "r = range(0,10)\n",
    "print(r)\n",
    "print(type(r))"
   ]
  },
  {
   "cell_type": "code",
   "execution_count": 24,
   "id": "93deeb75-7dd5-40e3-baf2-389ea52ff424",
   "metadata": {},
   "outputs": [
    {
     "name": "stdout",
     "output_type": "stream",
     "text": [
      "25\n"
     ]
    }
   ],
   "source": [
    "#How to count total no. of character in a string\n",
    "s = \"Iam going to a water park\"\n",
    "len(s)"
   ]
  },
  {
   "cell_type": "code",
   "execution_count": 25,
   "id": "fb3f0ca8-1731-4eba-8b92-d2bcae7f46aa",
   "metadata": {},
   "outputs": [
    {
     "name": "stdout",
     "output_type": "stream",
     "text": [
      "25\n"
     ]
    }
   ],
   "source": [
    "print(len(s))"
   ]
  },
  {
   "cell_type": "code",
   "execution_count": 26,
   "id": "a8c840c1-cf60-445c-80df-d21af214b33f",
   "metadata": {},
   "outputs": [],
   "source": [
    "string = \"The world is a happy place\""
   ]
  },
  {
   "cell_type": "code",
   "execution_count": 27,
   "id": "c800f5b7-a339-4a48-8738-54a19584f0d8",
   "metadata": {},
   "outputs": [
    {
     "data": {
      "text/plain": [
       "'The world is a happy place'"
      ]
     },
     "execution_count": 27,
     "metadata": {},
     "output_type": "execute_result"
    }
   ],
   "source": [
    "string[:]"
   ]
  },
  {
   "cell_type": "code",
   "execution_count": 28,
   "id": "9c27e88a-f855-4855-acb2-c414da684680",
   "metadata": {},
   "outputs": [
    {
     "data": {
      "text/plain": [
       "'The '"
      ]
     },
     "execution_count": 28,
     "metadata": {},
     "output_type": "execute_result"
    }
   ],
   "source": [
    "string[0:4]"
   ]
  },
  {
   "cell_type": "code",
   "execution_count": 29,
   "id": "60971751-ea59-4ac7-a2ea-0a77897b5eb3",
   "metadata": {},
   "outputs": [
    {
     "data": {
      "text/plain": [
       "'world is a happy place'"
      ]
     },
     "execution_count": 29,
     "metadata": {},
     "output_type": "execute_result"
    }
   ],
   "source": [
    "string[4:]"
   ]
  },
  {
   "cell_type": "code",
   "execution_count": 30,
   "id": "8964a5e0-cc6a-4d27-8dff-2d6180a320fb",
   "metadata": {},
   "outputs": [
    {
     "data": {
      "text/plain": [
       "'The world'"
      ]
     },
     "execution_count": 30,
     "metadata": {},
     "output_type": "execute_result"
    }
   ],
   "source": [
    "string[:9]"
   ]
  },
  {
   "cell_type": "code",
   "execution_count": 32,
   "id": "a1cea4b2-ee48-45b3-898d-bd0e20ad3c2e",
   "metadata": {},
   "outputs": [
    {
     "data": {
      "text/plain": [
       "'ecalp yppah a si dlrow ehT'"
      ]
     },
     "execution_count": 32,
     "metadata": {},
     "output_type": "execute_result"
    }
   ],
   "source": [
    "#How to reverse a string -- Two ways 1).reverse()   2)string[::-1]\n",
    "string[::-1]"
   ]
  },
  {
   "cell_type": "code",
   "execution_count": 35,
   "id": "d9acce53-6644-4348-b0b4-659b2096dcf3",
   "metadata": {},
   "outputs": [
    {
     "name": "stdout",
     "output_type": "stream",
     "text": [
      "False\n"
     ]
    },
    {
     "data": {
      "text/plain": [
       "bool"
      ]
     },
     "execution_count": 35,
     "metadata": {},
     "output_type": "execute_result"
    }
   ],
   "source": [
    "#Boolean \n",
    "\n",
    "x = 4>8\n",
    "print(x)\n",
    "type(x)"
   ]
  },
  {
   "cell_type": "code",
   "execution_count": 39,
   "id": "7f82a148-9c9d-4a6a-9640-d040d19ef070",
   "metadata": {},
   "outputs": [
    {
     "name": "stdout",
     "output_type": "stream",
     "text": [
      "True\n"
     ]
    },
    {
     "data": {
      "text/plain": [
       "bool"
      ]
     },
     "execution_count": 39,
     "metadata": {},
     "output_type": "execute_result"
    }
   ],
   "source": [
    "x = 4==4\n",
    "print(x)\n",
    "type(x)"
   ]
  },
  {
   "cell_type": "code",
   "execution_count": 40,
   "id": "88907da0-3960-4b10-93f1-0acb2503e51b",
   "metadata": {},
   "outputs": [
    {
     "name": "stdout",
     "output_type": "stream",
     "text": [
      "True\n"
     ]
    },
    {
     "data": {
      "text/plain": [
       "bool"
      ]
     },
     "execution_count": 40,
     "metadata": {},
     "output_type": "execute_result"
    }
   ],
   "source": [
    "x = 5!=6\n",
    "print(x)\n",
    "type(x)"
   ]
  },
  {
   "cell_type": "code",
   "execution_count": 41,
   "id": "0a4fcf17-5ab6-49ad-a055-ffee142df92c",
   "metadata": {},
   "outputs": [
    {
     "name": "stdout",
     "output_type": "stream",
     "text": [
      "False\n"
     ]
    },
    {
     "data": {
      "text/plain": [
       "bool"
      ]
     },
     "execution_count": 41,
     "metadata": {},
     "output_type": "execute_result"
    }
   ],
   "source": [
    "x = 4==5\n",
    "print(x)\n",
    "type(x)"
   ]
  },
  {
   "cell_type": "code",
   "execution_count": null,
   "id": "76f71d80-462d-4729-95ea-d2c4be2a5d77",
   "metadata": {},
   "outputs": [],
   "source": [
    "#Ctrl + ? to comment multiple lines"
   ]
  },
  {
   "cell_type": "code",
   "execution_count": 42,
   "id": "200a0626-3953-4afe-94a1-ea9f67ff09b0",
   "metadata": {},
   "outputs": [
    {
     "name": "stdout",
     "output_type": "stream",
     "text": [
      "[1, 2, 3, 4, 5, 6, 7, 8]\n"
     ]
    },
    {
     "data": {
      "text/plain": [
       "list"
      ]
     },
     "execution_count": 42,
     "metadata": {},
     "output_type": "execute_result"
    }
   ],
   "source": [
    "#LIST \n",
    "#List is a combination of hetrogenous datatypes\n",
    "\n",
    "#LIST[]     TUPPLE()     DICTIONARIES{}\n",
    "\n",
    "a = [1,2,3,4,5,6,7,8]\n",
    "print(a)\n",
    "type(a)"
   ]
  },
  {
   "cell_type": "code",
   "execution_count": 43,
   "id": "2fa5528e-20d3-4950-a556-f11537aef8a0",
   "metadata": {},
   "outputs": [
    {
     "name": "stdout",
     "output_type": "stream",
     "text": [
      "[2, 'me', True]\n"
     ]
    },
    {
     "data": {
      "text/plain": [
       "list"
      ]
     },
     "execution_count": 43,
     "metadata": {},
     "output_type": "execute_result"
    }
   ],
   "source": [
    "b = [2,\"me\",True]\n",
    "print(b)\n",
    "type(b)"
   ]
  },
  {
   "cell_type": "code",
   "execution_count": null,
   "id": "e0ca41e2-3b52-4e43-93c7-d23f1ad3faec",
   "metadata": {},
   "outputs": [],
   "source": [
    "#You have to move in left to righ in case of both indexing (both negative & positive)\n",
    "\n",
    "#   list[1:5]      list[-8:-3]\n"
   ]
  },
  {
   "cell_type": "code",
   "execution_count": 44,
   "id": "6f002b06-a90b-435d-8ec9-d68743e878ee",
   "metadata": {},
   "outputs": [
    {
     "data": {
      "text/plain": [
       "[6, 8]"
      ]
     },
     "execution_count": 44,
     "metadata": {},
     "output_type": "execute_result"
    }
   ],
   "source": [
    "#How to extract last 2 elements of a list\n",
    "\n",
    "number = [18,10,3,5,6,8]\n",
    "\n",
    "number[-2:]"
   ]
  },
  {
   "cell_type": "code",
   "execution_count": 45,
   "id": "be077363-022c-4ae5-b154-f48c34cefe46",
   "metadata": {},
   "outputs": [
    {
     "name": "stdout",
     "output_type": "stream",
     "text": [
      "[6, 8]\n",
      "[5, 6, 8]\n"
     ]
    }
   ],
   "source": [
    "#last 2 elements\n",
    "print(number[-2:])\n",
    "\n",
    "#last 3 elements\n",
    "print(number[-3:])"
   ]
  },
  {
   "cell_type": "code",
   "execution_count": 46,
   "id": "f95b7add-24f0-4b00-890f-7b1c0463d1e2",
   "metadata": {},
   "outputs": [
    {
     "data": {
      "text/plain": [
       "[18, 10, 99, 5, 6, 8]"
      ]
     },
     "execution_count": 46,
     "metadata": {},
     "output_type": "execute_result"
    }
   ],
   "source": [
    "#Lists are mutable\n",
    "number[2] = 99\n",
    "number"
   ]
  },
  {
   "cell_type": "code",
   "execution_count": 47,
   "id": "084afa75-273a-4f91-a5a2-eed222d3d631",
   "metadata": {},
   "outputs": [
    {
     "data": {
      "text/plain": [
       "[18, 10, 99, 5, 6, 8, 25]"
      ]
     },
     "execution_count": 47,
     "metadata": {},
     "output_type": "execute_result"
    }
   ],
   "source": [
    "#Addding a value in last\n",
    "number.append(25)\n",
    "number"
   ]
  },
  {
   "cell_type": "code",
   "execution_count": 48,
   "id": "1279b816-9c46-417d-8456-515907989f62",
   "metadata": {},
   "outputs": [
    {
     "data": {
      "text/plain": [
       "[18, 10, 99, 5, 6, 8, 25, 'me']"
      ]
     },
     "execution_count": 48,
     "metadata": {},
     "output_type": "execute_result"
    }
   ],
   "source": [
    "number.append(\"me\")\n",
    "number"
   ]
  },
  {
   "cell_type": "code",
   "execution_count": 49,
   "id": "97521ed4-89d9-478e-87c8-37a71af56868",
   "metadata": {},
   "outputs": [
    {
     "data": {
      "text/plain": [
       "[18, 10, 99, 5, 6, 8, 25, 'me', [30, 13]]"
      ]
     },
     "execution_count": 49,
     "metadata": {},
     "output_type": "execute_result"
    }
   ],
   "source": [
    "#You can't append multiple elements in a list at once\n",
    "\n",
    "#But you can append multiple values enclosed inside a list in a existing list\n",
    "\n",
    "number.append([30,13])\n",
    "number"
   ]
  },
  {
   "cell_type": "code",
   "execution_count": 50,
   "id": "672c5d30-fc70-4af0-9d8d-6c9c850caa4c",
   "metadata": {},
   "outputs": [
    {
     "data": {
      "text/plain": [
       "13"
      ]
     },
     "execution_count": 50,
     "metadata": {},
     "output_type": "execute_result"
    }
   ],
   "source": [
    "#Nested list\n",
    "\n",
    "number[-1][-1]"
   ]
  },
  {
   "cell_type": "code",
   "execution_count": 51,
   "id": "8530159f-f217-40f7-9ed6-60ac592e574d",
   "metadata": {},
   "outputs": [
    {
     "data": {
      "text/plain": [
       "[30, 13]"
      ]
     },
     "execution_count": 51,
     "metadata": {},
     "output_type": "execute_result"
    }
   ],
   "source": [
    "number[-1][:]"
   ]
  },
  {
   "cell_type": "code",
   "execution_count": 52,
   "id": "28258c9b-be62-4e72-8832-6765bc436eeb",
   "metadata": {},
   "outputs": [
    {
     "data": {
      "text/plain": [
       "[18, 10, 99, 5, 6, 8, 25, 'me', 90, [30, 13]]"
      ]
     },
     "execution_count": 52,
     "metadata": {},
     "output_type": "execute_result"
    }
   ],
   "source": [
    "#insert function\n",
    "\n",
    "number.insert(-1,90)\n",
    "number"
   ]
  },
  {
   "cell_type": "code",
   "execution_count": 53,
   "id": "12bfb1ae-e77f-4a58-b36b-45de57b2bb87",
   "metadata": {},
   "outputs": [
    {
     "data": {
      "text/plain": [
       "[18, 10, 99, 5, 6, 8, 25, 'me', 90, 40, [30, 13]]"
      ]
     },
     "execution_count": 53,
     "metadata": {},
     "output_type": "execute_result"
    }
   ],
   "source": [
    "number.insert(9,40)\n",
    "number"
   ]
  },
  {
   "cell_type": "code",
   "execution_count": 54,
   "id": "b804e71e-0651-4592-894e-16fdf39811b8",
   "metadata": {},
   "outputs": [
    {
     "data": {
      "text/plain": [
       "[18, 10, 99, 5, 6, 8, 25, 'me', 90, 40, 45, [30, 13]]"
      ]
     },
     "execution_count": 54,
     "metadata": {},
     "output_type": "execute_result"
    }
   ],
   "source": [
    "number.insert(10,45)\n",
    "number"
   ]
  },
  {
   "cell_type": "code",
   "execution_count": 55,
   "id": "3cf0967d-928a-4d2a-bd82-cab6e7b6fe2d",
   "metadata": {},
   "outputs": [
    {
     "data": {
      "text/plain": [
       "[18, 10, 99, 5, 6, 8, 25, 'me', 90, 40, 45, [30, 13], 45]"
      ]
     },
     "execution_count": 55,
     "metadata": {},
     "output_type": "execute_result"
    }
   ],
   "source": [
    "number.insert(12,45)\n",
    "number"
   ]
  },
  {
   "cell_type": "code",
   "execution_count": 60,
   "id": "caefbf67-13dd-4a2e-9314-839773cc3be5",
   "metadata": {},
   "outputs": [
    {
     "data": {
      "text/plain": [
       "[1, 2, 4, 5, 6, 7, [2, 3], 8]"
      ]
     },
     "execution_count": 60,
     "metadata": {},
     "output_type": "execute_result"
    }
   ],
   "source": [
    "#inserting multiple values with insert function\n",
    "#You can't insert a element at the last with insert you have to use append for it \n",
    "\n",
    "number_1 = [1,2,4,5,6,7,8]\n",
    "\n",
    "number_1.insert(-1,[2,3])\n",
    "number_1"
   ]
  },
  {
   "cell_type": "code",
   "execution_count": 62,
   "id": "ad57ca2d-63b4-4c4c-9d81-59647d5c4a52",
   "metadata": {},
   "outputs": [
    {
     "data": {
      "text/plain": [
       "[1, 2, 4, 5, 6, 7, [2, 3]]"
      ]
     },
     "execution_count": 62,
     "metadata": {},
     "output_type": "execute_result"
    }
   ],
   "source": [
    "#Deletig value from a list\n",
    "\n",
    "number_1.remove(8)\n",
    "number_1"
   ]
  },
  {
   "cell_type": "code",
   "execution_count": 65,
   "id": "0d4bc8f5-070b-4ef5-8cd9-69467de20507",
   "metadata": {},
   "outputs": [
    {
     "data": {
      "text/plain": [
       "[2, 3]"
      ]
     },
     "execution_count": 65,
     "metadata": {},
     "output_type": "execute_result"
    }
   ],
   "source": [
    "#Inside pop you are giving index number               but inside remove you are giving value\n",
    "y=number_1.pop(4)\n",
    "y"
   ]
  },
  {
   "cell_type": "code",
   "execution_count": null,
   "id": "a51da206-6450-45b3-9c3b-de7ecbf51b34",
   "metadata": {},
   "outputs": [],
   "source": [
    "#Tuple\n",
    "\n",
    "#Tuples are immutable                        while list are mutable\n",
    "\n",
    "#Memory allocation of list is more than tupples\n",
    "\n",
    "#Coping list n no. of times will take more time\n",
    "\n"
   ]
  },
  {
   "cell_type": "code",
   "execution_count": 66,
   "id": "9f0622c3-86da-4dcc-952e-bb172a073ed4",
   "metadata": {},
   "outputs": [
    {
     "data": {
      "text/plain": [
       "tuple"
      ]
     },
     "execution_count": 66,
     "metadata": {},
     "output_type": "execute_result"
    }
   ],
   "source": [
    "age = (12,5,4,8,3)\n",
    "type(age)"
   ]
  },
  {
   "cell_type": "code",
   "execution_count": 68,
   "id": "4c266739-a2a3-418b-bef8-554a86cbb805",
   "metadata": {},
   "outputs": [
    {
     "name": "stdout",
     "output_type": "stream",
     "text": [
      "<class 'tuple'>\n"
     ]
    },
    {
     "data": {
      "text/plain": [
       "4"
      ]
     },
     "execution_count": 68,
     "metadata": {},
     "output_type": "execute_result"
    }
   ],
   "source": [
    "Age = (12,5,8,7,4,[1,4,6])\n",
    "print(type(Age))\n",
    "Age[-1][1]"
   ]
  },
  {
   "cell_type": "code",
   "execution_count": 71,
   "id": "185b258f-b821-41c2-86f5-785ffe28960f",
   "metadata": {},
   "outputs": [],
   "source": [
    "#append & insert fn are only present in list                and not in tupple"
   ]
  },
  {
   "cell_type": "code",
   "execution_count": null,
   "id": "c8074c1f-f0f2-4f51-a2c2-a0615af9d2bf",
   "metadata": {},
   "outputs": [],
   "source": [
    "#Tupples are immutable\n",
    "\n",
    "\n",
    "#But if there is a list present inside a tupple , it is mutable\n",
    "\n"
   ]
  },
  {
   "cell_type": "code",
   "execution_count": 72,
   "id": "7a4733f8-7c79-4bf1-9661-c6605f70ae4e",
   "metadata": {},
   "outputs": [
    {
     "data": {
      "text/plain": [
       "(12, 5, 8, 7, 4, [1, 4, 95])"
      ]
     },
     "execution_count": 72,
     "metadata": {},
     "output_type": "execute_result"
    }
   ],
   "source": [
    "Age[-1][-1] = 95\n",
    "Age"
   ]
  },
  {
   "cell_type": "code",
   "execution_count": null,
   "id": "3129099b-9080-42dc-afac-b8db3a90120c",
   "metadata": {},
   "outputs": [],
   "source": []
  },
  {
   "cell_type": "code",
   "execution_count": 73,
   "id": "694c2bac-9c26-425b-85db-b433962db4ae",
   "metadata": {},
   "outputs": [
    {
     "data": {
      "text/plain": [
       "('E', 'W', 'N', 'S')"
      ]
     },
     "execution_count": 73,
     "metadata": {},
     "output_type": "execute_result"
    }
   ],
   "source": [
    "#PACKING AND UNPACKING\n",
    "\n",
    "\n",
    "#Packing\n",
    "directions = \"E\",\"W\",\"N\",\"S\"          \n",
    "\n",
    "directions\n",
    "\n",
    "#Whenever you will give elements in this form it will enclose in form of a tupple"
   ]
  },
  {
   "cell_type": "code",
   "execution_count": 76,
   "id": "bd5f8633-7fdb-4321-b740-54126bb8c22e",
   "metadata": {},
   "outputs": [
    {
     "data": {
      "text/plain": [
       "'W'"
      ]
     },
     "execution_count": 76,
     "metadata": {},
     "output_type": "execute_result"
    }
   ],
   "source": [
    "\n",
    "\n",
    "#Unpacking\n",
    "x1,x2,x3,x4=directions\n",
    "\n",
    "x2"
   ]
  },
  {
   "cell_type": "code",
   "execution_count": 80,
   "id": "2c45644d-eed4-4e64-9c7d-4ebd79a84408",
   "metadata": {},
   "outputs": [
    {
     "data": {
      "text/plain": [
       "['N', 'S']"
      ]
     },
     "execution_count": 80,
     "metadata": {},
     "output_type": "execute_result"
    }
   ],
   "source": [
    "\n",
    "\n",
    "#Can we unpack tupples with lesser no. of variables\n",
    "\n",
    "\n",
    "#Yes we can unpack with lesser number of variables                 x1,x2,*x3\n",
    "\n",
    "\n",
    "#But you can't unpack with greater no. of variables\n",
    "\n",
    "x1,x2,*x3 = directions\n",
    "\n",
    "x3\n",
    "\n",
    "\n",
    "\n",
    "#One thing to be noted                     multiples values will be given in form of a list                 However you are unpacking a tupple"
   ]
  },
  {
   "cell_type": "code",
   "execution_count": null,
   "id": "f35a53ce-de18-413f-9a47-5fd1dbcb23bd",
   "metadata": {},
   "outputs": [],
   "source": []
  },
  {
   "cell_type": "code",
   "execution_count": 81,
   "id": "5af2673e-24fc-4c67-9326-d4cc9ec1a683",
   "metadata": {},
   "outputs": [
    {
     "data": {
      "text/plain": [
       "{1: 'Panchmardhi', 2: 'Balaghat', 3: 'Shimla'}"
      ]
     },
     "execution_count": 81,
     "metadata": {},
     "output_type": "execute_result"
    }
   ],
   "source": [
    "#Dictionaries\n",
    "\n",
    "town = {1:\"Panchmardhi\",\n",
    "       2:\"Balaghat\",\n",
    "       3:\"Shimla\"}\n",
    "\n",
    "town"
   ]
  },
  {
   "cell_type": "code",
   "execution_count": 83,
   "id": "eed96446-1da4-4f5a-81b3-ee6d9743a26f",
   "metadata": {},
   "outputs": [
    {
     "data": {
      "text/plain": [
       "'Balaghat'"
      ]
     },
     "execution_count": 83,
     "metadata": {},
     "output_type": "execute_result"
    }
   ],
   "source": [
    "\n",
    "\n",
    "#Keys are indexes in dictionaries\n",
    "\n",
    "town[2]"
   ]
  },
  {
   "cell_type": "code",
   "execution_count": 84,
   "id": "aced2f30-2643-4427-bbcc-ebdeac74407d",
   "metadata": {},
   "outputs": [
    {
     "data": {
      "text/plain": [
       "{1: 'Panchmardhi', 2: 'Balaghat', 3: 'Dharmashala'}"
      ]
     },
     "execution_count": 84,
     "metadata": {},
     "output_type": "execute_result"
    }
   ],
   "source": [
    "\n",
    "\n",
    "#Dictionaries are multable\n",
    "\n",
    "#That means               only tupples are immutable                    List,Dictionaries are mutable\n",
    "\n",
    "\n",
    "town[3] = \"Dharmashala\"\n",
    "\n",
    "town"
   ]
  },
  {
   "cell_type": "code",
   "execution_count": null,
   "id": "7cfba7b9-d769-472a-8e12-c583bd54b36f",
   "metadata": {},
   "outputs": [],
   "source": [
    "\n",
    "#So here the key is a string value & the value is a int\n",
    "\n",
    "town[\"abc\"] = 20"
   ]
  },
  {
   "cell_type": "code",
   "execution_count": null,
   "id": "ebd1eb59-72c8-418a-939f-d40a9d6815d8",
   "metadata": {},
   "outputs": [],
   "source": []
  },
  {
   "cell_type": "code",
   "execution_count": null,
   "id": "42297d76-5613-4868-8531-b5fc6aad5543",
   "metadata": {},
   "outputs": [],
   "source": []
  },
  {
   "cell_type": "code",
   "execution_count": null,
   "id": "cbfc8057-9e50-4e3d-965a-7f3323660d5a",
   "metadata": {},
   "outputs": [],
   "source": []
  },
  {
   "cell_type": "code",
   "execution_count": null,
   "id": "beca7616-cf66-4ab9-8092-c31c938dde55",
   "metadata": {},
   "outputs": [],
   "source": []
  },
  {
   "cell_type": "code",
   "execution_count": null,
   "id": "5e8d58c2-6e68-44e9-8846-09e718c3ffe7",
   "metadata": {},
   "outputs": [],
   "source": []
  },
  {
   "cell_type": "code",
   "execution_count": null,
   "id": "35d4e605-b48a-4b39-86ce-424e33c95ef5",
   "metadata": {},
   "outputs": [],
   "source": []
  },
  {
   "cell_type": "code",
   "execution_count": null,
   "id": "e99965f9-6826-4eaa-9b25-33be0300d85f",
   "metadata": {},
   "outputs": [],
   "source": []
  },
  {
   "cell_type": "code",
   "execution_count": null,
   "id": "93fe18fd-33fc-4880-b3e8-d5005d548bb7",
   "metadata": {},
   "outputs": [],
   "source": []
  },
  {
   "cell_type": "code",
   "execution_count": null,
   "id": "90a52809-0083-4c0a-80db-c485795a05f3",
   "metadata": {},
   "outputs": [],
   "source": []
  },
  {
   "cell_type": "code",
   "execution_count": null,
   "id": "f563a2e9-3234-4f49-b5f8-1129da1a287d",
   "metadata": {},
   "outputs": [],
   "source": []
  },
  {
   "cell_type": "code",
   "execution_count": null,
   "id": "3e641d4a-d255-478e-a4d4-0fc785456f0b",
   "metadata": {},
   "outputs": [],
   "source": []
  }
 ],
 "metadata": {
  "kernelspec": {
   "display_name": "Python 3 (ipykernel)",
   "language": "python",
   "name": "python3"
  },
  "language_info": {
   "codemirror_mode": {
    "name": "ipython",
    "version": 3
   },
   "file_extension": ".py",
   "mimetype": "text/x-python",
   "name": "python",
   "nbconvert_exporter": "python",
   "pygments_lexer": "ipython3",
   "version": "3.12.7"
  }
 },
 "nbformat": 4,
 "nbformat_minor": 5
}
